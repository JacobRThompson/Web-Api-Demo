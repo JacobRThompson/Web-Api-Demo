{
 "cells": [
  {
   "cell_type": "markdown",
   "id": "d6361045",
   "metadata": {},
   "source": [
    "# A Painfully Simple Weather App"
   ]
  },
  {
   "cell_type": "code",
   "execution_count": null,
   "id": "e2601e82",
   "metadata": {},
   "outputs": [],
   "source": [
    "from dataclasses import dataclass\n",
    "\n",
    "#Because we aren't savages, we define a data type that gives other readers more information about the program\n",
    "\n",
    "@dataclass\n",
    "class Pos:\n",
    "    \"\"\"Container for coordinate data\"\"\"\n",
    "\n",
    "    latitude: float\n",
    "    \"\"\"providing a tooltip for this field is wildly unnecessary and is provided for the sake of demonstration. we probably have bigger issues if the reader needs more information on this term.\"\"\"\n",
    "\n",
    "    longitude : float\n",
    "    \"\"\"providing a tooltip for this field is wildly unnecessary and is provided for the sake of demonstration; we probably have bigger issues if the reader needs more information on this term.\"\"\"\n",
    "\n",
    "\n",
    "WAUSAU_COORDS = Pos (44.95914000, -89.63012000)\n"
   ]
  },
  {
   "cell_type": "markdown",
   "id": "2f11ccb6",
   "metadata": {},
   "source": [
    "## Sending the initial request\n",
    "\n",
    "The government's api is fairly straightforward. We do not have to worry about session tokens, api keys, or anything else along those lines."
   ]
  },
  {
   "cell_type": "code",
   "execution_count": 20,
   "id": "0204bd1d",
   "metadata": {},
   "outputs": [],
   "source": [
    "import json, requests\n",
    "\n",
    "response = requests.get(f\"https://api.weather.gov/points/{WAUSAU_COORDS.latitude},{WAUSAU_COORDS.longitude}\")\n",
    "\n",
    "\n",
    "match response.status_code:\n",
    "\n",
    "    # request is successful OR request is successful but has no data to return\n",
    "    case 200 | 204: \n",
    "\n",
    "\n",
    "        pass\n",
    "\n",
    "    case _ :\n",
    "\n",
    "        raise Exception(\n",
    "            \"\"\"In a non-trivial environment, we would probably want to either:\n",
    "\n",
    "            - use an exception type defined in the `requests` module \n",
    "            - define our own exception for this situation \n",
    "\n",
    "            doing either would allow us to filter out this exception if there is something we wanted to do something here OTHER than bricking the the program such as:\n",
    "            \n",
    "            - Waiting and then trying again\n",
    "            - Trying a different weather service provider\"\"\")\n",
    "\n",
    "\n",
    "result : dict = json.loads(response.text)\n"
   ]
  },
  {
   "cell_type": "markdown",
   "id": "0bf65308",
   "metadata": {},
   "source": [
    "### Filtering the response\n",
    "\n",
    "Depending on what editor you use, you may be able to directly peek into the contents of our results dictionary. In the absolute worst case situation, you can just print its contents from prior to being parsed into a dictionary."
   ]
  },
  {
   "cell_type": "code",
   "execution_count": 22,
   "id": "814532ec",
   "metadata": {},
   "outputs": [
    {
     "name": "stdout",
     "output_type": "stream",
     "text": [
      "{\n",
      "    \"@context\": [\n",
      "        \"https://geojson.org/geojson-ld/geojson-context.jsonld\",\n",
      "        {\n",
      "            \"@version\": \"1.1\",\n",
      "            \"wx\": \"https://api.weather.gov/ontology#\",\n",
      "            \"s\": \"https://schema.org/\",\n",
      "            \"geo\": \"http://www.opengis.net/ont/geosparql#\",\n",
      "            \"unit\": \"http://codes.wmo.int/common/unit/\",\n",
      "            \"@vocab\": \"https://api.weather.gov/ontology#\",\n",
      "            \"geometry\": {\n",
      "                \"@id\": \"s:GeoCoordinates\",\n",
      "                \"@type\": \"geo:wktLiteral\"\n",
      "            },\n",
      "            \"city\": \"s:addressLocality\",\n",
      "            \"state\": \"s:addressRegion\",\n",
      "            \"distance\": {\n",
      "                \"@id\": \"s:Distance\",\n",
      "                \"@type\": \"s:QuantitativeValue\"\n",
      "            },\n",
      "            \"bearing\": {\n",
      "                \"@type\": \"s:QuantitativeValue\"\n",
      "            },\n",
      "            \"value\": {\n",
      "                \"@id\": \"s:value\"\n",
      "            },\n",
      "            \"unitCode\": {\n",
      "                \"@id\": \"s:unitCode\",\n",
      "                \"@type\": \"@id\"\n",
      "            },\n",
      "            \"forecastOffice\": {\n",
      "                \"@type\": \"@id\"\n",
      "            },\n",
      "            \"forecastGridData\": {\n",
      "                \"@type\": \"@id\"\n",
      "            },\n",
      "            \"publicZone\": {\n",
      "                \"@type\": \"@id\"\n",
      "            },\n",
      "            \"county\": {\n",
      "                \"@type\": \"@id\"\n",
      "            }\n",
      "        }\n",
      "    ],\n",
      "    \"id\": \"https://api.weather.gov/points/44.9591,-89.6301\",\n",
      "    \"type\": \"Feature\",\n",
      "    \"geometry\": {\n",
      "        \"type\": \"Point\",\n",
      "        \"coordinates\": [\n",
      "            -89.6301,\n",
      "            44.9591\n",
      "        ]\n",
      "    },\n",
      "    \"properties\": {\n",
      "        \"@id\": \"https://api.weather.gov/points/44.9591,-89.6301\",\n",
      "        \"@type\": \"wx:Point\",\n",
      "        \"cwa\": \"GRB\",\n",
      "        \"forecastOffice\": \"https://api.weather.gov/offices/GRB\",\n",
      "        \"gridId\": \"GRB\",\n",
      "        \"gridX\": 25,\n",
      "        \"gridY\": 50,\n",
      "        \"forecast\": \"https://api.weather.gov/gridpoints/GRB/25,50/forecast\",\n",
      "        \"forecastHourly\": \"https://api.weather.gov/gridpoints/GRB/25,50/forecast/hourly\",\n",
      "        \"forecastGridData\": \"https://api.weather.gov/gridpoints/GRB/25,50\",\n",
      "        \"observationStations\": \"https://api.weather.gov/gridpoints/GRB/25,50/stations\",\n",
      "        \"relativeLocation\": {\n",
      "            \"type\": \"Feature\",\n",
      "            \"geometry\": {\n",
      "                \"type\": \"Point\",\n",
      "                \"coordinates\": [\n",
      "                    -89.643486,\n",
      "                    44.961866\n",
      "                ]\n",
      "            },\n",
      "            \"properties\": {\n",
      "                \"city\": \"Wausau\",\n",
      "                \"state\": \"WI\",\n",
      "                \"distance\": {\n",
      "                    \"unitCode\": \"wmoUnit:m\",\n",
      "                    \"value\": 1097.2134411324\n",
      "                },\n",
      "                \"bearing\": {\n",
      "                    \"unitCode\": \"wmoUnit:degree_(angle)\",\n",
      "                    \"value\": 106\n",
      "                }\n",
      "            }\n",
      "        },\n",
      "        \"forecastZone\": \"https://api.weather.gov/zones/forecast/WIZ030\",\n",
      "        \"county\": \"https://api.weather.gov/zones/county/WIC073\",\n",
      "        \"fireWeatherZone\": \"https://api.weather.gov/zones/fire/WIZ030\",\n",
      "        \"timeZone\": \"America/Chicago\",\n",
      "        \"radarStation\": \"KGRB\"\n",
      "    }\n",
      "}\n"
     ]
    }
   ],
   "source": [
    "print(response.text)"
   ]
  },
  {
   "cell_type": "code",
   "execution_count": null,
   "id": "6f5063c7",
   "metadata": {},
   "outputs": [
    {
     "name": "stdout",
     "output_type": "stream",
     "text": [
      "https://api.weather.gov/gridpoints/GRB/25,50/forecast\n"
     ]
    }
   ],
   "source": [
    "#once you find something of interest, you can traverse the dictionary and pull whatever you need\n",
    "\n",
    "forecastURL = result[\"properties\"][\"forecast\"]\n",
    "\n",
    "print(forecastURL)\n",
    "\n",
    "# From here you can make a new get request to get the actual forecast contents"
   ]
  }
 ],
 "metadata": {
  "kernelspec": {
   "display_name": "Python 3",
   "language": "python",
   "name": "python3"
  },
  "language_info": {
   "codemirror_mode": {
    "name": "ipython",
    "version": 3
   },
   "file_extension": ".py",
   "mimetype": "text/x-python",
   "name": "python",
   "nbconvert_exporter": "python",
   "pygments_lexer": "ipython3",
   "version": "3.10.5"
  }
 },
 "nbformat": 4,
 "nbformat_minor": 5
}
