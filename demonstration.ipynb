{
 "cells": [
  {
   "cell_type": "markdown",
   "id": "d6361045",
   "metadata": {},
   "source": [
    "# A Painfully Simple Weather App"
   ]
  },
  {
   "cell_type": "code",
   "execution_count": 3,
   "id": "e2601e82",
   "metadata": {},
   "outputs": [],
   "source": [
    "from dataclasses import dataclass\n",
    "\n",
    "#Because we aren't savages, we define a data type that gives other readers more information about the program\n",
    "\n",
    "@dataclass\n",
    "class Pos:\n",
    "    \"\"\"Container for coordinate data\"\"\"\n",
    "\n",
    "    latitude: float\n",
    "    \"\"\"providing a tooltip for this filed is wildly unnecessary and is provided for the sake of demonstration. we probably have bigger issues if the reader needs more information on this term.\"\"\"\n",
    "\n",
    "    longitude : float\n",
    "    \"\"\"providing a tooltip for this filed is wildly unnecessary and is provided for the sake of demonstration; we probably have bigger issues if the reader needs more information on this term.\"\"\"\n",
    "\n",
    "\n",
    "WAUSAU_COORDS = Pos (44.95914000, -89.63012000)\n"
   ]
  },
  {
   "cell_type": "code",
   "execution_count": 10,
   "id": "0204bd1d",
   "metadata": {},
   "outputs": [],
   "source": [
    "import json, requests\n",
    "\n",
    "response = requests.get(f\"https://api.weather.gov/points/{WAUSAU_COORDS.latitude},{WAUSAU_COORDS.longitude}\")\n",
    "\n",
    "\n",
    "match response.status_code:\n",
    "\n",
    "    # request is successful OR request is successful but has no data to return\n",
    "    case 200 | 204: \n",
    "\n",
    "\n",
    "        pass\n",
    "\n",
    "    case _ :\n",
    "\n",
    "        raise Exception(\n",
    "            \"\"\"In a non-trivial environment, we would probably want to either:\n",
    "\n",
    "            - use an exception type defined in the `requests` module \n",
    "            - define our own exception for this situation \n",
    "\n",
    "            doing either would allow us to filter out this exception if there is something we wanted to do something here OTHER than bricking the the program such as:\n",
    "            \n",
    "            - Waiting and then trying again\n",
    "            - Trying a different weather service provider\"\"\")\n",
    "\n",
    "\n",
    "result : dict = json.loads(response.text)\n"
   ]
  },
  {
   "cell_type": "code",
   "execution_count": null,
   "id": "814532ec",
   "metadata": {},
   "outputs": [],
   "source": [
    "print()\n",
    "\n",
    "\n",
    "\n",
    "print()"
   ]
  }
 ],
 "metadata": {
  "kernelspec": {
   "display_name": "Python 3",
   "language": "python",
   "name": "python3"
  },
  "language_info": {
   "codemirror_mode": {
    "name": "ipython",
    "version": 3
   },
   "file_extension": ".py",
   "mimetype": "text/x-python",
   "name": "python",
   "nbconvert_exporter": "python",
   "pygments_lexer": "ipython3",
   "version": "3.10.5"
  }
 },
 "nbformat": 4,
 "nbformat_minor": 5
}
